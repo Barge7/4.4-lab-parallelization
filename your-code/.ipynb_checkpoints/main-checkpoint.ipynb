{
 "cells": [
  {
   "cell_type": "markdown",
   "metadata": {
    "toc": true
   },
   "source": [
    "<h1>Table of Contents<span class=\"tocSkip\"></span></h1>\n",
    "<div class=\"toc\"><ul class=\"toc-item\"><li><span><a href=\"#Parallelization-Lab\" data-toc-modified-id=\"Parallelization-Lab-1\"><span class=\"toc-item-num\">1&nbsp;&nbsp;</span>Parallelization Lab</a></span><ul class=\"toc-item\"><li><span><a href=\"#Step-1:-Use-the-requests-library-to-retrieve-the-content-from-the-URL-below.\" data-toc-modified-id=\"Step-1:-Use-the-requests-library-to-retrieve-the-content-from-the-URL-below.-1.1\"><span class=\"toc-item-num\">1.1&nbsp;&nbsp;</span>Step 1: Use the requests library to retrieve the content from the URL below.</a></span></li><li><span><a href=\"#Step-2:-Use-BeautifulSoup-to-extract-a-list-of-all-the-unique-links-on-the-page.\" data-toc-modified-id=\"Step-2:-Use-BeautifulSoup-to-extract-a-list-of-all-the-unique-links-on-the-page.-1.2\"><span class=\"toc-item-num\">1.2&nbsp;&nbsp;</span>Step 2: Use BeautifulSoup to extract a list of all the unique links on the page.</a></span></li><li><span><a href=\"#Step-3:-Use-list-comprehensions-with-conditions-to-clean-the-link-list.\" data-toc-modified-id=\"Step-3:-Use-list-comprehensions-with-conditions-to-clean-the-link-list.-1.3\"><span class=\"toc-item-num\">1.3&nbsp;&nbsp;</span>Step 3: Use list comprehensions with conditions to clean the link list.</a></span></li><li><span><a href=\"#Step-4:-Use-the-os-library-to-create-a-folder-called-wikipedia-and-make-that-the-current-working-directory.\" data-toc-modified-id=\"Step-4:-Use-the-os-library-to-create-a-folder-called-wikipedia-and-make-that-the-current-working-directory.-1.4\"><span class=\"toc-item-num\">1.4&nbsp;&nbsp;</span>Step 4: Use the os library to create a folder called <em>wikipedia</em> and make that the current working directory.</a></span></li><li><span><a href=\"#Step-5:-Write-a-function-called-index_page-that-accepts-a-link-and-does-the-following.\" data-toc-modified-id=\"Step-5:-Write-a-function-called-index_page-that-accepts-a-link-and-does-the-following.-1.5\"><span class=\"toc-item-num\">1.5&nbsp;&nbsp;</span>Step 5: Write a function called index_page that accepts a link and does the following.</a></span></li><li><span><a href=\"#Step-6:-Sequentially-loop-through-the-list-of-links,-running-the-index_page-function-each-time.\" data-toc-modified-id=\"Step-6:-Sequentially-loop-through-the-list-of-links,-running-the-index_page-function-each-time.-1.6\"><span class=\"toc-item-num\">1.6&nbsp;&nbsp;</span>Step 6: Sequentially loop through the list of links, running the index_page function each time.</a></span></li><li><span><a href=\"#Step-7:-Perform-the-page-indexing-in-parallel-and-note-the-difference-in-performance.\" data-toc-modified-id=\"Step-7:-Perform-the-page-indexing-in-parallel-and-note-the-difference-in-performance.-1.7\"><span class=\"toc-item-num\">1.7&nbsp;&nbsp;</span>Step 7: Perform the page indexing in parallel and note the difference in performance.</a></span></li></ul></li></ul></div>"
   ]
  },
  {
   "cell_type": "markdown",
   "metadata": {},
   "source": [
    "# Parallelization Lab\n",
    "\n",
    "In this lab, you will be leveraging several concepts you have learned to obtain a list of links from a web page and crawl and index the pages referenced by those links - both sequentially and in parallel. Follow the steps below to complete the lab."
   ]
  },
  {
   "cell_type": "markdown",
   "metadata": {},
   "source": [
    "## Step 1: Use the requests library to retrieve the content from the URL below.\n",
    "\n",
    "https://en.wikipedia.org/wiki/Data_science"
   ]
  },
  {
   "cell_type": "code",
   "execution_count": 1,
   "metadata": {},
   "outputs": [],
   "source": [
    "import requests as req\n",
    "\n",
    "url = 'https://en.wikipedia.org/wiki/Data_science'"
   ]
  },
  {
   "cell_type": "code",
   "execution_count": 2,
   "metadata": {},
   "outputs": [],
   "source": [
    "html=req.get(url).text"
   ]
  },
  {
   "cell_type": "markdown",
   "metadata": {},
   "source": [
    "## Step 2: Use BeautifulSoup to extract a list of all the unique links on the page."
   ]
  },
  {
   "cell_type": "code",
   "execution_count": 3,
   "metadata": {},
   "outputs": [],
   "source": [
    "from bs4 import BeautifulSoup as bs\n",
    "import re"
   ]
  },
  {
   "cell_type": "code",
   "execution_count": 4,
   "metadata": {
    "scrolled": true
   },
   "outputs": [],
   "source": [
    "soup = bs(html, 'html.parser')"
   ]
  },
  {
   "cell_type": "code",
   "execution_count": 5,
   "metadata": {},
   "outputs": [
    {
     "data": {
      "text/plain": [
       "'/wiki/Information_science'"
      ]
     },
     "execution_count": 5,
     "metadata": {},
     "output_type": "execute_result"
    }
   ],
   "source": [
    "body = soup.find('div', class_='mw-parser-output')\n",
    "links = body.find_all('a')\n",
    "links[0].attrs['href']"
   ]
  },
  {
   "cell_type": "code",
   "execution_count": 6,
   "metadata": {},
   "outputs": [
    {
     "name": "stdout",
     "output_type": "stream",
     "text": [
      "error en Science\n"
     ]
    },
    {
     "data": {
      "text/plain": [
       "316"
      ]
     },
     "execution_count": 6,
     "metadata": {},
     "output_type": "execute_result"
    }
   ],
   "source": [
    "lista= []\n",
    "for e in links:\n",
    "    try:\n",
    "        lista.append(e.attrs['href'])\n",
    "    except:\n",
    "        print('error en', e.text)\n",
    "len(lista)"
   ]
  },
  {
   "cell_type": "markdown",
   "metadata": {},
   "source": [
    "## Step 3: Use list comprehensions with conditions to clean the link list.\n",
    "\n",
    "There are two types of links, absolute and relative. Absolute links have the full URL and begin with http while relative links begin with a forward slash (/) and point to an internal page within the wikipedia.org domain. Clean the respective types of URLs as follows.\n",
    "\n",
    "- Absolute Links: Create a list of these and remove any that contain a percentage sign (%).\n",
    "- Relativel Links: Create a list of these, add the domain to the link so that you have the full URL, and remove any that contain a percentage sign (%).\n",
    "- Combine the list of absolute and relative links and ensure there are no duplicates."
   ]
  },
  {
   "cell_type": "code",
   "execution_count": 7,
   "metadata": {},
   "outputs": [],
   "source": [
    "domain = 'http://wikipedia.org'"
   ]
  },
  {
   "cell_type": "code",
   "execution_count": 8,
   "metadata": {},
   "outputs": [],
   "source": [
    "combine=[]\n",
    "for e in lista:\n",
    "\n",
    "    if 'www' in e and '%' not in e:\n",
    "        combine.append(e)\n",
    "    elif '%' not in e and 'http:' not in e:\n",
    "        combine.append('http:/'+ e)\n",
    "    else:\n",
    "        pass\n",
    "#combine"
   ]
  },
  {
   "cell_type": "code",
   "execution_count": 9,
   "metadata": {},
   "outputs": [
    {
     "data": {
      "text/plain": [
       "239"
      ]
     },
     "execution_count": 9,
     "metadata": {},
     "output_type": "execute_result"
    }
   ],
   "source": [
    "#LIST COMPREHENSION\n",
    "combine= [e if 'www' in e and '%' not in e else ('http:'+ e if '%' not in e and 'http' not in e else '')for e in lista]\n",
    "combine= list(filter(None, combine))\n",
    "# len(combine)\n",
    "combine = set(combine)\n",
    "len(combine)"
   ]
  },
  {
   "cell_type": "markdown",
   "metadata": {},
   "source": [
    "## Step 4: Use the os library to create a folder called *wikipedia* and make that the current working directory."
   ]
  },
  {
   "cell_type": "code",
   "execution_count": 10,
   "metadata": {},
   "outputs": [],
   "source": [
    "import os"
   ]
  },
  {
   "cell_type": "code",
   "execution_count": 11,
   "metadata": {},
   "outputs": [
    {
     "data": {
      "text/plain": [
       "'C:\\\\Users\\\\silsi\\\\apuntes_clase\\\\semana_4\\\\10-11-22\\\\4.4-lab-parallelization\\\\your-code'"
      ]
     },
     "execution_count": 11,
     "metadata": {},
     "output_type": "execute_result"
    }
   ],
   "source": [
    "os.getcwd()"
   ]
  },
  {
   "cell_type": "code",
   "execution_count": 12,
   "metadata": {},
   "outputs": [],
   "source": [
    "#os.mkdir('wikipedia')"
   ]
  },
  {
   "cell_type": "code",
   "execution_count": 13,
   "metadata": {},
   "outputs": [],
   "source": [
    "os.chdir('wikipedia')"
   ]
  },
  {
   "cell_type": "code",
   "execution_count": 14,
   "metadata": {},
   "outputs": [
    {
     "data": {
      "text/plain": [
       "'C:\\\\Users\\\\silsi\\\\apuntes_clase\\\\semana_4\\\\10-11-22\\\\4.4-lab-parallelization\\\\your-code\\\\wikipedia'"
      ]
     },
     "execution_count": 14,
     "metadata": {},
     "output_type": "execute_result"
    }
   ],
   "source": [
    "os.getcwd()"
   ]
  },
  {
   "cell_type": "markdown",
   "metadata": {},
   "source": [
    "## Step 5: Write a function called index_page that accepts a link and does the following.\n",
    "\n",
    "- Tries to request the content of the page referenced by that link.\n",
    "- Slugifies the filename using the `slugify` function from the [python-slugify](https://pypi.org/project/python-slugify/) library and adds a .html file extension.\n",
    "    - If you don't already have the python-slugify library installed, you can pip install it as follows: `$ pip install python-slugify`.\n",
    "    - To import the slugify function, you would do the following: `from slugify import slugify`.\n",
    "    - You can then slugify a link as follows `slugify(link)`.\n",
    "- Creates a file in the wikipedia folder using the slugified filename and writes the contents of the page to the file.\n",
    "- If an exception occurs during the process above, just `pass`."
   ]
  },
  {
   "cell_type": "code",
   "execution_count": 15,
   "metadata": {},
   "outputs": [],
   "source": [
    "#%pip install python-slugify"
   ]
  },
  {
   "cell_type": "code",
   "execution_count": 16,
   "metadata": {},
   "outputs": [],
   "source": [
    "from slugify import slugify\n",
    "\n",
    "unicode=str()"
   ]
  },
  {
   "cell_type": "code",
   "execution_count": 17,
   "metadata": {},
   "outputs": [
    {
     "data": {
      "text/plain": [
       "'http-wikipedia-org'"
      ]
     },
     "execution_count": 17,
     "metadata": {},
     "output_type": "execute_result"
    }
   ],
   "source": [
    "slugify(domain)"
   ]
  },
  {
   "cell_type": "code",
   "execution_count": 18,
   "metadata": {},
   "outputs": [],
   "source": [
    "def index_page(s):\n",
    "    try:\n",
    "        html = req.get(s).content\n",
    "        texto = bs(html, 'html.parser').text\n",
    "        archivo = slugify(s)\n",
    "        f = open(archivo, 'w' , encoding=\"utf-8\")\n",
    "        f.write(texto)\n",
    "    except:\n",
    "        print(s)"
   ]
  },
  {
   "cell_type": "code",
   "execution_count": 19,
   "metadata": {},
   "outputs": [],
   "source": [
    "index_page(domain)"
   ]
  },
  {
   "cell_type": "markdown",
   "metadata": {},
   "source": [
    "## Step 6: Sequentially loop through the list of links, running the index_page function each time.\n",
    "\n",
    "Remember to include `%%time` at the beginning of the cell so that it measures the time it takes for the cell to run."
   ]
  },
  {
   "cell_type": "code",
   "execution_count": 20,
   "metadata": {},
   "outputs": [
    {
     "name": "stdout",
     "output_type": "stream",
     "text": [
      "http:#cite_ref-:2_3-3\n",
      "http:/wiki/William_S._Cleveland\n",
      "http:#cite_ref-11\n",
      "http:/wiki/Special:BookSources/9784431702085\n",
      "http:#cite_note-BellHey2009-6\n",
      "http:/wiki/Nate_Silver\n",
      "http:/wiki/Data_wrangling\n",
      "http:#cite_ref-25\n",
      "http:#cite_note-7\n",
      "http:/w/index.php?title=Data_science&action=edit&section=6\n",
      "http:#cite_note-14\n",
      "http:/wiki/New_York_Times\n",
      "http:/wiki/Data_corruption\n",
      "http:/wiki/Data_lineage\n",
      "http:#cite_ref-Murtagh_2018_14_22-0\n",
      "http:#cite_note-:5-34\n",
      "http:#cite_note-29\n",
      "http:/wiki/Data_augmentation\n",
      "http:#cite_note-23\n",
      "http:/wiki/Data_publishing\n",
      "http:/wiki/John_Tukey\n",
      "https://www2.isye.gatech.edu/~jeffwu/publications/fazhan.pdf\n",
      "http:#cite_note-18\n",
      "http:/wiki/Data_scraping\n",
      "http:/wiki/Data_reduction\n",
      "http:/wiki/Women_in_Data\n",
      "http:/wiki/Data_warehouse\n",
      "http:/wiki/Buzzword\n",
      "http:#cite_ref-33\n",
      "http:/wiki/Domain_knowledge\n",
      "http:#cite_note-Murtagh_2018_14-22\n",
      "http:#cite_ref-TansleyTolle2009_5-0\n",
      "http:#cite_ref-:1_24-1\n",
      "http:/wiki/C._F._Jeff_Wu\n",
      "http:/wiki/ISBN_(identifier)\n",
      "http:/wiki/Extract,_load,_transform\n",
      "http:/wiki/Data_integrity\n",
      "http:/wiki/Boston_Globe\n",
      "http:#See_also\n",
      "http:/wiki/Data_extraction\n",
      "http:/wiki/Knowledge\n",
      "http:#cite_note-20\n",
      "http:#Early_usage\n",
      "http:#cite_note-28\n",
      "http:/wiki/Peter_Naur\n",
      "//www.worldcat.org/oclc/489990740\n",
      "http:#cite_ref-:5_34-0\n",
      "http:#cite_note-11\n",
      "http:/wiki/Data_library\n",
      "http:/wiki/Data_integration\n",
      "http:/wiki/Data_steward\n",
      "http:/wiki/Data_scrubbing\n",
      "http:/wiki/Data_(computing)\n",
      "http:#cite_note-:1-24\n",
      "http:/w/index.php?title=Data_science&action=edit&section=4\n",
      "http:/wiki/Distributed_computing\n",
      "http:/wiki/Data_migration\n",
      "http:/wiki/Data\n",
      "http:#cite_note-1\n",
      "http:/wiki/Unstructured_data\n",
      "http:/wiki/Thomas_H._Davenport\n",
      "http:/wiki/Data_set\n",
      "http:/wiki/Data_curation\n",
      "http:/wiki/Boston\n",
      "http:#cite_ref-Murtagh_2018_14_22-1\n",
      "http:#cite_ref-27\n",
      "http:/wiki/Andrew_Gelman\n",
      "http:/w/index.php?title=Data_science&action=edit&section=5\n",
      "http:#cite_ref-:1_24-0\n",
      "http:#cite_ref-:2_3-2\n",
      "http:#References\n",
      "http:/wiki/Information_privacy\n",
      "http:/wiki/PMID_(identifier)\n",
      "http:/wiki/Academic_discipline\n",
      "http:#cite_ref-32\n",
      "http:#cite_note-12\n",
      "http:/wiki/Data_degradation\n",
      "http:/wiki/Data_loading\n",
      "http:/wiki/Information_science\n",
      "http:#cite_ref-31\n",
      "http:/wiki/Empirical_research\n",
      "http:#cite_note-9\n",
      "http:#cite_note-15\n",
      "http:#cite_ref-:7_19-1\n",
      "http:#cite_note-:7-19\n",
      "http:/wiki/Computer_science\n",
      "http:/wiki/Database\n",
      "http:#cite_ref-15\n",
      "http:/wiki/Template:Data\n",
      "http:/wiki/Computational_statistics\n",
      "http:/wiki/Phenomena\n",
      "http:/w/index.php?title=Data_science&action=edit&section=7\n",
      "http:/wiki/Special:BookSources/0-12-241770-4\n",
      "//www.worldcat.org/issn/0036-8075\n",
      "http:/wiki/OCLC_(identifier)\n",
      "http:/wiki/Data_farming\n",
      "http:/wiki/Informatics\n",
      "http:#cite_ref-BellHey2009_6-0\n",
      "http:#Foundations\n",
      "http:/wiki/Data_quality\n",
      "http:/wiki/Data_format_management\n",
      "http:/wiki/Data_editing\n",
      "http:#cite_ref-18\n",
      "http:#cite_note-31\n",
      "http:/wiki/Data_collection\n",
      "http:#cite_ref-14\n",
      "http:#cite_ref-2\n",
      "http:/wiki/Data_recovery\n",
      "http:#cite_note-8\n",
      "http:#cite_ref-20\n",
      "http:/wiki/Space_telescope\n",
      "http:/wiki/Machine_learning\n",
      "http:/wiki/Nathan_Yau\n",
      "http:/wiki/Scientific_Data_(journal)\n",
      "http:/wiki/Doi_(identifier)\n",
      "http:#cite_ref-:2_3-0\n",
      "http:#cite_ref-17\n",
      "http:/wiki/American_Statistical_Association\n",
      "http:#cite_note-2\n",
      "http:/wiki/Comet_NEOWISE\n",
      "http:/wiki/Data_cleansing\n",
      "http:/wiki/Business\n",
      "http:#cite_ref-26\n",
      "http:#cite_ref-9\n",
      "http:/wiki/Information_explosion\n",
      "http:/wiki/Extract,_transform,_load\n",
      "http:#cite_note-:2-3\n",
      "http:/wiki/Basic_research\n",
      "http:/wiki/David_Donoho\n",
      "http:#cite_ref-:7_19-0\n",
      "http:#cite_ref-21\n",
      "http:#cite_note-10\n",
      "http:/w/index.php?title=Data_science&action=edit&section=2\n",
      "http:/wiki/File:PIA23792-1600x1200(1).jpg\n",
      "http:/wiki/Data_retention\n",
      "http:/wiki/Data_analysis\n",
      "http:#cite_ref-10\n",
      "http:/wiki/S2CID_(identifier)\n",
      "http:/wiki/Vasant_Dhar\n",
      "http:/wiki/Interdisciplinary\n",
      "http:#cite_note-TansleyTolle2009-5\n",
      "http:/wiki/Statistics\n",
      "http:/wiki/Exploration\n",
      "http:/wiki/Data_management\n",
      "http:/wiki/Data_storage\n",
      "http:/wiki/Data_loss\n",
      "http:#cite_ref-4\n",
      "http:/wiki/Committee_on_Data_for_Science_and_Technology\n",
      "http:#cite_ref-13\n",
      "http:/wiki/Harvard_Business_Review\n",
      "http:/wiki/Computational_science\n",
      "http:#cite_ref-1\n",
      "http:/wiki/Scientific_method\n",
      "http:/wiki/Analysis\n",
      "http:#cite_note-17\n",
      "http:/wiki/Data_sonification\n",
      "http:#cite_ref-29\n",
      "http:/wiki/ODSC\n",
      "http:/wiki/Interdisciplinarity\n",
      "http:#cite_ref-:2_3-4\n",
      "http:#cite_ref-8\n",
      "http:/wiki/Montpellier_2_University\n",
      "http:/wiki/Data_archaeology\n",
      "http:/wiki/Data_philanthropy\n",
      "http:/wiki/Analytics\n",
      "http:/wiki/Special:BookSources/978-0-9825442-0-4\n",
      "http:/wiki/National_Science_Board\n",
      "http:#cite_ref-7\n",
      "http:#cite_ref-23\n",
      "http:/wiki/Data_security\n",
      "http:#cite_note-21\n",
      "http:#Modern_usage\n",
      "//www.worldcat.org/issn/0360-0300\n",
      "http:/wiki/Turing_Award\n",
      "http:#cite_note-4\n",
      "http:/wiki/Communication\n",
      "http:/w/index.php?title=Data_science&action=edit&section=1\n",
      "http:/wiki/Information_visualization\n",
      "http:/wiki/Complex_systems\n",
      "http:#cite_note-27\n",
      "http:#cite_note-26\n",
      "http:/wiki/Wide-field_Infrared_Survey_Explorer\n",
      "http:#cite_note-13\n",
      "http:/wiki/Columbia_University\n",
      "http:/wiki/Jeffrey_T._Leek\n",
      "http:/wiki/Ben_Fry\n",
      "http:/wiki/Data_mining\n",
      "http:/wiki/Data_preservation\n",
      "http:/wiki/DJ_Patil\n",
      "http:/wiki/Data_compression\n",
      "http:/wiki/New_York_City\n",
      "http:/wiki/Graphic_design\n",
      "http:#cite_ref-16\n",
      "http:/wiki/Astronomical_survey\n",
      "http:#cite_note-30\n",
      "http:/wiki/Problem_solving\n",
      "http:#cite_ref-:1_24-2\n",
      "http:/wiki/Data_visualization\n",
      "http:/wiki/Data_pre-processing\n",
      "http:/wiki/Mathematics\n",
      "http:/wiki/ISSN_(identifier)\n",
      "http:/wiki/Algorithm\n",
      "http://www2.isye.gatech.edu/~jeffwu/presentations/datascience.pdf\n",
      "http:/wiki/Jeff_Hammerbacher\n",
      "http:#cite_note-16\n",
      "http:/w/index.php?title=Data_science&action=edit&section=3\n",
      "http:/wiki/Big_data\n",
      "http:/wiki/Jim_Gray_(computer_scientist)\n",
      "http:#cite_note-33\n",
      "http:/wiki/Data_fusion\n",
      "http:#cite_note-:6-35\n",
      "http:#cite_ref-28\n",
      "http:#cite_ref-12\n",
      "http:#Relationship_to_statistics\n",
      "http:#cite_ref-30\n",
      "http:/wiki/Information_technology\n",
      "//www.worldcat.org/issn/0017-8012\n",
      "http:/wiki/Template_talk:Data\n",
      "http:#cite_note-25\n",
      "http:/wiki/Data_validation\n",
      "http:#cite_ref-:2_3-1\n",
      "http:/wiki/Data_transformation\n",
      "http:#cite_note-32\n",
      "http:#Etymology\n",
      "http:#cite_ref-:6_35-0\n",
      "CPU times: total: 1.11 s\n",
      "Wall time: 8.22 s\n"
     ]
    }
   ],
   "source": [
    "%%time\n",
    "domain = 'http://wikipedia.org'\n",
    "combine\n",
    "\n",
    "for e in combine:\n",
    "    index_page(e)"
   ]
  },
  {
   "cell_type": "markdown",
   "metadata": {},
   "source": [
    "## Step 7: Perform the page indexing in parallel and note the difference in performance.\n",
    "\n",
    "Remember to include `%%time` at the beginning of the cell so that it measures the time it takes for the cell to run."
   ]
  },
  {
   "cell_type": "code",
   "execution_count": 23,
   "metadata": {},
   "outputs": [],
   "source": [
    "import multiprocessing"
   ]
  },
  {
   "cell_type": "code",
   "execution_count": 22,
   "metadata": {},
   "outputs": [],
   "source": []
  }
 ],
 "metadata": {
  "kernelspec": {
   "display_name": "Python 3 (ipykernel)",
   "language": "python",
   "name": "python3"
  },
  "language_info": {
   "codemirror_mode": {
    "name": "ipython",
    "version": 3
   },
   "file_extension": ".py",
   "mimetype": "text/x-python",
   "name": "python",
   "nbconvert_exporter": "python",
   "pygments_lexer": "ipython3",
   "version": "3.9.12"
  },
  "toc": {
   "base_numbering": 1,
   "nav_menu": {},
   "number_sections": true,
   "sideBar": true,
   "skip_h1_title": false,
   "title_cell": "Table of Contents",
   "title_sidebar": "Contents",
   "toc_cell": true,
   "toc_position": {},
   "toc_section_display": true,
   "toc_window_display": false
  },
  "varInspector": {
   "cols": {
    "lenName": 16,
    "lenType": 16,
    "lenVar": 40
   },
   "kernels_config": {
    "python": {
     "delete_cmd_postfix": "",
     "delete_cmd_prefix": "del ",
     "library": "var_list.py",
     "varRefreshCmd": "print(var_dic_list())"
    },
    "r": {
     "delete_cmd_postfix": ") ",
     "delete_cmd_prefix": "rm(",
     "library": "var_list.r",
     "varRefreshCmd": "cat(var_dic_list()) "
    }
   },
   "types_to_exclude": [
    "module",
    "function",
    "builtin_function_or_method",
    "instance",
    "_Feature"
   ],
   "window_display": false
  }
 },
 "nbformat": 4,
 "nbformat_minor": 2
}
